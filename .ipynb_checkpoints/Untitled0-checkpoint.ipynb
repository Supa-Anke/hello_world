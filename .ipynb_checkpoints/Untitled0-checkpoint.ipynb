{
 "metadata": {
  "name": "",
  "signature": "sha256:91ae81e9d213fdd7963532bf62f16d4914e03b8930f29c765b7c880ac4077f81"
 },
 "nbformat": 3,
 "nbformat_minor": 0,
 "worksheets": []
}