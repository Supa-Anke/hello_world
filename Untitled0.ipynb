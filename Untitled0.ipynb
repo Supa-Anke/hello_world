{
 "metadata": {
  "name": "",
  "signature": "sha256:fccd058aa010092bd1ec8b408b469556e24e6c5655f9f856b996d9a4560ccd07"
 },
 "nbformat": 3,
 "nbformat_minor": 0,
 "worksheets": [
  {
   "cells": [
    {
     "cell_type": "code",
     "collapsed": false,
     "input": [
      "from pyrt.renderer import RGBImage\n",
      "from pyrt.math import Vec2, Vec3\n",
      "import random\n",
      "\n",
      "width = 320\n",
      "height = 240\n",
      "image = RGBImage(320,240)\n",
      "\n",
      "for i in range(5000):\n",
      "        position = Vec2(random.randint(0 , width-1),\n",
      "                        random.randint(0, height-1))\n",
      "        color=Vec3(1,0,0)\n",
      "        image.drawPoint(position, color)"
     ],
     "language": "python",
     "metadata": {},
     "outputs": [],
     "prompt_number": 4
    },
    {
     "cell_type": "code",
     "collapsed": false,
     "input": [
      "from PIL import Image as PImage\n",
      "from IPython.display import Image\n",
      "\n",
      "im = PImage.new(\"RGB\", (width, height))\n",
      "im.putdata(image.data)\n",
      "im.save('myImage.png')\n",
      "Image('myImage.png')"
     ],
     "language": "python",
     "metadata": {},
     "outputs": [
      {
       "metadata": {},
       "output_type": "pyout",
       "png": "[encoded data removed]",
       "prompt_number": 7,
       "text": [
        "<IPython.core.display.Image at 0x7feb841a8668>"
       ]
      }
     ],
     "prompt_number": 7
    },
    {
     "cell_type": "code",
     "collapsed": false,
     "input": [],
     "language": "python",
     "metadata": {},
     "outputs": []
    }
   ],
   "metadata": {}
  }
 ]
}